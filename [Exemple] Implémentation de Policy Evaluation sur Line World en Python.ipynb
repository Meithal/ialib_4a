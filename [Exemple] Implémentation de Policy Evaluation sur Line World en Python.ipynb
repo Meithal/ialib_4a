{
  "cells": [
    {
      "cell_type": "code",
      "execution_count": 72,
      "metadata": {
        "id": "9lafb1EqxHm-"
      },
      "outputs": [],
      "source": [
        "import random"
      ]
    },
    {
      "cell_type": "markdown",
      "metadata": {
        "id": "dqWMM3i0u7Pl"
      },
      "source": [
        "# Line World MDP"
      ]
    },
    {
      "cell_type": "code",
      "execution_count": 73,
      "metadata": {
        "id": "LxSqfoFiq4BL"
      },
      "outputs": [],
      "source": [
        "A = [0, 1] # 0 : Gauche, 1 : Droite\n",
        "S = [0, 1, 2, 3, 4] # l'agent est dans la case i\n",
        "R = [-1.0, 0.0, 1.0] # recompenses immédiates\n",
        "T = [0, 4] # etats finaux\n",
        "p = [ # matrice de transition: le score obtenu pour chaque transition d'etat\n",
        "    [\n",
        "        [\n",
        "            [\n",
        "                0.0 for r_index in range(len(R))\n",
        "            ] for s_p in range(len(S))\n",
        "        ] for a in range(len(A))\n",
        "    ] for s in range(len(S))\n",
        "]"
      ]
    },
    {
      "cell_type": "code",
      "execution_count": 74,
      "metadata": {
        "id": "79ySWIZCsu5g"
      },
      "outputs": [],
      "source": [
        "for s in [1, 2]:\n",
        "  p[s][1][s+1][1] = 1.0  ## on ne gagne aucun reward si on se deplace a droite depuis 1 ou 2 \n",
        "for s in [2, 3]:\n",
        "  p[s][0][s-1][1] = 1.0  ## on ne gagne aucun reward si on se deplace a gauche depuis 1 ou 2 \n",
        "p[3][1][4][2] = 1.0  ## on gagne si on se deplace a droite et qu'on est a case 3\n",
        "p[1][0][0][0] = 1.0  ## on perd si on se deplace a gauche et qu'on est a la case 1"
      ]
    },
    {
      "cell_type": "code",
      "execution_count": 86,
      "metadata": {},
      "outputs": [
        {
          "data": {
            "text/plain": [
              "[[[[0.0, 0.0, 0.0],\n",
              "   [0.0, 0.0, 0.0],\n",
              "   [0.0, 0.0, 0.0],\n",
              "   [0.0, 0.0, 0.0],\n",
              "   [0.0, 0.0, 0.0]],\n",
              "  [[0.0, 0.0, 0.0],\n",
              "   [0.0, 0.0, 0.0],\n",
              "   [0.0, 0.0, 0.0],\n",
              "   [0.0, 0.0, 0.0],\n",
              "   [0.0, 0.0, 0.0]]],\n",
              " [[[1.0, 0.0, 0.0],\n",
              "   [0.0, 0.0, 0.0],\n",
              "   [0.0, 0.0, 0.0],\n",
              "   [0.0, 0.0, 0.0],\n",
              "   [0.0, 0.0, 0.0]],\n",
              "  [[0.0, 0.0, 0.0],\n",
              "   [0.0, 0.0, 0.0],\n",
              "   [0.0, 1.0, 0.0],\n",
              "   [0.0, 0.0, 0.0],\n",
              "   [0.0, 0.0, 0.0]]],\n",
              " [[[0.0, 0.0, 0.0],\n",
              "   [0.0, 1.0, 0.0],\n",
              "   [0.0, 0.0, 0.0],\n",
              "   [0.0, 0.0, 0.0],\n",
              "   [0.0, 0.0, 0.0]],\n",
              "  [[0.0, 0.0, 0.0],\n",
              "   [0.0, 0.0, 0.0],\n",
              "   [0.0, 0.0, 0.0],\n",
              "   [0.0, 1.0, 0.0],\n",
              "   [0.0, 0.0, 0.0]]],\n",
              " [[[0.0, 0.0, 0.0],\n",
              "   [0.0, 0.0, 0.0],\n",
              "   [0.0, 1.0, 0.0],\n",
              "   [0.0, 0.0, 0.0],\n",
              "   [0.0, 0.0, 0.0]],\n",
              "  [[0.0, 0.0, 0.0],\n",
              "   [0.0, 0.0, 0.0],\n",
              "   [0.0, 0.0, 0.0],\n",
              "   [0.0, 0.0, 0.0],\n",
              "   [0.0, 0.0, 1.0]]],\n",
              " [[[0.0, 0.0, 0.0],\n",
              "   [0.0, 0.0, 0.0],\n",
              "   [0.0, 0.0, 0.0],\n",
              "   [0.0, 0.0, 0.0],\n",
              "   [0.0, 0.0, 0.0]],\n",
              "  [[0.0, 0.0, 0.0],\n",
              "   [0.0, 0.0, 0.0],\n",
              "   [0.0, 0.0, 0.0],\n",
              "   [0.0, 0.0, 0.0],\n",
              "   [0.0, 0.0, 0.0]]]]"
            ]
          },
          "execution_count": 86,
          "metadata": {},
          "output_type": "execute_result"
        }
      ],
      "source": [
        "p"
      ]
    },
    {
      "cell_type": "code",
      "execution_count": 87,
      "metadata": {},
      "outputs": [
        {
          "name": "stdout",
          "output_type": "stream",
          "text": [
            "[[[[0.0, 0.0, 0.0],\n",
            "   [0.0, 0.0, 0.0],\n",
            "   [0.0, 0.0, 0.0],\n",
            "   [0.0, 0.0, 0.0],\n",
            "   [0.0, 0.0, 0.0]],\n",
            "  [[0.0, 0.0, 0.0],\n",
            "   [0.0, 0.0, 0.0],\n",
            "   [0.0, 0.0, 0.0],\n",
            "   [0.0, 0.0, 0.0],\n",
            "   [0.0, 0.0, 0.0]]],\n",
            " [[[1.0, 0.0, 0.0],\n",
            "   [0.0, 0.0, 0.0],\n",
            "   [0.0, 0.0, 0.0],\n",
            "   [0.0, 0.0, 0.0],\n",
            "   [0.0, 0.0, 0.0]],\n",
            "  [[0.0, 0.0, 0.0],\n",
            "   [0.0, 0.0, 0.0],\n",
            "   [0.0, 1.0, 0.0],\n",
            "   [0.0, 0.0, 0.0],\n",
            "   [0.0, 0.0, 0.0]]],\n",
            " [[[0.0, 0.0, 0.0],\n",
            "   [0.0, 1.0, 0.0],\n",
            "   [0.0, 0.0, 0.0],\n",
            "   [0.0, 0.0, 0.0],\n",
            "   [0.0, 0.0, 0.0]],\n",
            "  [[0.0, 0.0, 0.0],\n",
            "   [0.0, 0.0, 0.0],\n",
            "   [0.0, 0.0, 0.0],\n",
            "   [0.0, 1.0, 0.0],\n",
            "   [0.0, 0.0, 0.0]]],\n",
            " [[[0.0, 0.0, 0.0],\n",
            "   [0.0, 0.0, 0.0],\n",
            "   [0.0, 1.0, 0.0],\n",
            "   [0.0, 0.0, 0.0],\n",
            "   [0.0, 0.0, 0.0]],\n",
            "  [[0.0, 0.0, 0.0],\n",
            "   [0.0, 0.0, 0.0],\n",
            "   [0.0, 0.0, 0.0],\n",
            "   [0.0, 0.0, 0.0],\n",
            "   [0.0, 0.0, 1.0]]],\n",
            " [[[0.0, 0.0, 0.0],\n",
            "   [0.0, 0.0, 0.0],\n",
            "   [0.0, 0.0, 0.0],\n",
            "   [0.0, 0.0, 0.0],\n",
            "   [0.0, 0.0, 0.0]],\n",
            "  [[0.0, 0.0, 0.0],\n",
            "   [0.0, 0.0, 0.0],\n",
            "   [0.0, 0.0, 0.0],\n",
            "   [0.0, 0.0, 0.0],\n",
            "   [0.0, 0.0, 0.0]]]]\n"
          ]
        }
      ],
      "source": [
        "import pprint\n",
        "\n",
        "pprint.pprint(p)"
      ]
    },
    {
      "cell_type": "code",
      "execution_count": 75,
      "metadata": {
        "id": "4ujC1yDFu6ZJ"
      },
      "outputs": [],
      "source": [
        "def iterative_policy_evaluation(\n",
        "    pi,\n",
        "    env_S,\n",
        "    env_A,\n",
        "    env_R,\n",
        "    env_p,\n",
        "    env_T = None,\n",
        "    theta=0.00001,\n",
        "    gamma=0.99999,\n",
        "    V=None\n",
        "    ):\n",
        "  if V is None:\n",
        "    if env_T is None:\n",
        "      raise \"env T is None\"\n",
        "    V = [0.0 if s in env_T else random.random() for s in env_S]\n",
        "\n",
        "  while True:\n",
        "    delta = 0.0\n",
        "    for s in env_S:\n",
        "      v_prev = V[s]\n",
        "      total = 0.0\n",
        "      for a in env_A:\n",
        "        for s_p in env_S:\n",
        "          for r_index in range(len(env_R)):\n",
        "            r = env_R[r_index]\n",
        "            total += pi[s][a] * env_p[s][a][s_p][r_index] * (r + gamma * V[s_p])\n",
        "      V[s] = total\n",
        "      delta = max(delta, abs(v_prev - V[s]))\n",
        "    if delta < theta:\n",
        "      break\n",
        "  return V\n",
        "\n"
      ]
    },
    {
      "cell_type": "code",
      "execution_count": 76,
      "metadata": {
        "id": "iiRvWL71ykBD"
      },
      "outputs": [],
      "source": [
        "pi_right = [[1.0 if a == 1 else 0.0 for a in A] for s in S]"
      ]
    },
    {
      "cell_type": "code",
      "execution_count": 77,
      "metadata": {
        "colab": {
          "base_uri": "https://localhost:8080/"
        },
        "id": "1ryekzYzyls7",
        "outputId": "c3a1f50d-36eb-4097-a2ea-96f8b5b95aa9"
      },
      "outputs": [
        {
          "data": {
            "text/plain": [
              "[0.0, 0.9999800001000001, 0.99999, 1.0, 0.0]"
            ]
          },
          "execution_count": 77,
          "metadata": {},
          "output_type": "execute_result"
        }
      ],
      "source": [
        "iterative_policy_evaluation(pi_right, S, A, R, p, T)"
      ]
    },
    {
      "cell_type": "code",
      "execution_count": 78,
      "metadata": {
        "id": "JfBaJtVqzH8u"
      },
      "outputs": [],
      "source": [
        "pi_left = [[0.0 if a == 1 else 1.0 for a in A] for s in S]"
      ]
    },
    {
      "cell_type": "code",
      "execution_count": 79,
      "metadata": {
        "colab": {
          "base_uri": "https://localhost:8080/"
        },
        "id": "3sLuFcE6zZ__",
        "outputId": "ed418a11-c37e-4ff5-f457-4c94d9a9b9da"
      },
      "outputs": [
        {
          "data": {
            "text/plain": [
              "[0.0, -1.0, -0.99999, -0.9999800001000001, 0.0]"
            ]
          },
          "execution_count": 79,
          "metadata": {},
          "output_type": "execute_result"
        }
      ],
      "source": [
        "iterative_policy_evaluation(pi_left, S, A, R, p, T)"
      ]
    },
    {
      "cell_type": "code",
      "execution_count": 80,
      "metadata": {
        "id": "tbOEAH3gzbA5"
      },
      "outputs": [],
      "source": [
        "pi_random_uniform = [[0.5 if a == 1 else 0.5 for a in A] for s in S]"
      ]
    },
    {
      "cell_type": "code",
      "execution_count": 81,
      "metadata": {
        "colab": {
          "base_uri": "https://localhost:8080/"
        },
        "id": "BWbLWSYdzlLo",
        "outputId": "4df62378-daa6-4a5d-eac9-cb2774e2f6ca"
      },
      "outputs": [
        {
          "data": {
            "text/plain": [
              "[0.0, -0.49999317623865036, 6.823693112029128e-06, 0.5000034118124376, 0.0]"
            ]
          },
          "execution_count": 81,
          "metadata": {},
          "output_type": "execute_result"
        }
      ],
      "source": [
        "iterative_policy_evaluation(pi_random_uniform, S, A, R, p, T)"
      ]
    },
    {
      "cell_type": "code",
      "execution_count": 82,
      "metadata": {
        "id": "kMIo4Jxjzmy-"
      },
      "outputs": [],
      "source": [
        "pi_random_weird = [[0.3 if a == 1 else 0.7 for a in A] for s in S]"
      ]
    },
    {
      "cell_type": "code",
      "execution_count": 83,
      "metadata": {
        "colab": {
          "base_uri": "https://localhost:8080/"
        },
        "id": "Y7T5-gZnzy7l",
        "outputId": "b8e77e45-db9b-48db-b401-83aa67460559"
      },
      "outputs": [
        {
          "data": {
            "text/plain": [
              "[0.0, -0.9068860074325816, -0.6896335140015102, -0.18273863236645915, 0.0]"
            ]
          },
          "execution_count": 83,
          "metadata": {},
          "output_type": "execute_result"
        }
      ],
      "source": [
        "iterative_policy_evaluation(pi_random_weird, S, A, R, p, T)"
      ]
    },
    {
      "cell_type": "code",
      "execution_count": 84,
      "metadata": {
        "id": "hARH88ycz05-"
      },
      "outputs": [],
      "source": [
        "def policy_iteration(\n",
        "    env_S,\n",
        "    env_A,\n",
        "    env_R,\n",
        "    env_p,\n",
        "    theta=0.00001,\n",
        "    gamma=0.99999):\n",
        "\n",
        "    V = [random.random() for s in env_S]\n",
        "    pi = [random.choice(env_A) for s in env_S]\n",
        "\n",
        "\n",
        "    while True:\n",
        "\n",
        "        pi_matrix = [[1.0 if a == pi[s] else 0.0 for a in env_A] for s in env_S]\n",
        "        V = iterative_policy_evaluation(\n",
        "            pi_matrix, env_S, env_A, env_R, env_p, theta=theta, gamma=gamma, V=V\n",
        "        )\n",
        "\n",
        "        # policy improvement\n",
        "\n",
        "        is_policy_stable = True\n",
        "        for s in env_S:\n",
        "            old_a = pi[s]\n",
        "\n",
        "            best_a = None\n",
        "            best_a_score = None\n",
        "\n",
        "            for a in env_A:\n",
        "                total = 0.\n",
        "                for s_p in env_S:\n",
        "                    for r_index in range(len(env_R)):\n",
        "                        r = env_R[r_index]\n",
        "                        total += env_p[s][a][s_p][r_index] * (r + gamma * V[s_p])\n",
        "                if best_a is None or total >= best_a_score:\n",
        "                    best_a = A\n",
        "                    best_a_score = total\n",
        "                \n",
        "                pi[s] = best_a\n",
        "                if old_a != best_a:\n",
        "                    is_policy_stable = False\n",
        "                \n",
        "        if is_policy_stable:\n",
        "            break\n",
        "\n",
        "    return pi, V\n"
      ]
    },
    {
      "cell_type": "code",
      "execution_count": 85,
      "metadata": {},
      "outputs": [
        {
          "data": {
            "text/plain": [
              "([[0, 1], [0, 1], [0, 1], [0, 1], [0, 1]], [0.0, 0.0, 0.0, 0.0, 0.0])"
            ]
          },
          "execution_count": 85,
          "metadata": {},
          "output_type": "execute_result"
        }
      ],
      "source": [
        "policy_iteration(S, A, R, p)"
      ]
    }
  ],
  "metadata": {
    "colab": {
      "provenance": []
    },
    "kernelspec": {
      "display_name": "Python 3",
      "name": "python3"
    },
    "language_info": {
      "codemirror_mode": {
        "name": "ipython",
        "version": 3
      },
      "file_extension": ".py",
      "mimetype": "text/x-python",
      "name": "python",
      "nbconvert_exporter": "python",
      "pygments_lexer": "ipython3",
      "version": "3.11.1"
    }
  },
  "nbformat": 4,
  "nbformat_minor": 0
}
